{
 "cells": [
  {
   "cell_type": "markdown",
   "id": "e55aea65-50e7-4afa-babf-8eec48edd8f3",
   "metadata": {
    "editable": true,
    "slideshow": {
     "slide_type": ""
    },
    "tags": []
   },
   "source": [
    "# CCT College Dublin - CA2\n",
    "## Artificial Intelligence\n",
    "\n",
    "Lecturer Name: `David McQuaid`\n",
    "\n",
    "Student Name: `Marcos Vinicius de Oliveira`\n",
    "\n",
    "Student Number: `2023323`"
   ]
  },
  {
   "cell_type": "markdown",
   "id": "ab22caf1-9cdf-4e54-b498-60acf34dbeaa",
   "metadata": {
    "jp-MarkdownHeadingCollapsed": true
   },
   "source": [
    "## Ref: Question 1(b):\n",
    "The difference between a graph and a tree is that a graph can be categorized by a collection of nodes and edges. The edges connect two nodes that represent a relationship. Here is a simple example of a graph:\n",
    "\n",
    "```\n",
    "A ------ B\n",
    " \\\n",
    "  C\n",
    "```\n",
    "A simple graph with three nodes (A, B, C) and two edges.\n",
    "A tree can be a type of graph, but not exactly every graph is a tree, and a tree has exactly one unique path between every node. Here is a simple example of a tree:\n",
    "```\n",
    "    A\n",
    "   / \\\n",
    "  B   C\n",
    " / \\\n",
    "D   E\n",
    "```\n",
    "This tree has five nodes: `A` is the root. `B` and `C` are the children of `A`. `D` and `E` are children of `B`."
   ]
  },
  {
   "cell_type": "markdown",
   "id": "d9656fcf-1c7c-414d-b12d-60f8e88eb9ea",
   "metadata": {
    "jp-MarkdownHeadingCollapsed": true
   },
   "source": [
    "## Ref: Question 1(c):\n",
    "The graph represents the structure of a puzzle. This puzzle shows various nodes, and each node represents a state within the puzzle. The starting point is from `A`, which it needs to get to `S`. The nodes between `B` to `R`, represent the paths. `A` is connected to `B`, `C` and `H`, which means that from there, it can move in either direction of these stages. There are some random numbers on the edges, it can be the weights, the difficulty level of the puzzle and/or the cost of making this move. The main goal of this puzzle is to navigate from `A` and arrive at the solution `S` through multiple routes. "
   ]
  },
  {
   "cell_type": "markdown",
   "id": "cc9c53a3-d499-4bda-9278-6d27e8e1c4ca",
   "metadata": {},
   "source": [
    "## Ref: Question 1(d):\n",
    "There are several advantages to using a visualization as the one in `Fig. 1`. Here are some of them:\n",
    "\n",
    "- `Visualization and Understanding:` This graph helps us to break down a complex structure in an easy way to understand.\n",
    "- `Analysis:` If the complexity of the problem involves paths, routes, and/or connections, a visual graph allows us to analyse the situation and decide what is best a Dijkstra's or A* for finding the shortest or most efficient path.\n",
    "- `Identifying Errors:` If the structure is large, it is easy to make mistakes, this visual representation helps us to identify errors and make corrections quickly.\n",
    "- `Scalability:` This graph can easily be increased or decreased in specific areas of interest.\n",
    "\n",
    "This Fig. 1 graph is a great representation of a puzzle, it can be easily analyzed, it is easy to understand, find errors, and increase and decrease depending on the complexity of the problem."
   ]
  },
  {
   "cell_type": "markdown",
   "id": "a4276d6e-54bb-452d-b524-f195013db4b3",
   "metadata": {},
   "source": [
    "## Ref: Question 1(e):\n"
   ]
  },
  {
   "cell_type": "markdown",
   "id": "2a5e734e-877b-4e5d-9da8-a85d7fd7832d",
   "metadata": {},
   "source": [
    "## Question 2:\n",
    "The creator of the puzzle has been told that the A* algorithm is more efficient at finding the shortest path because it uses heuristics. Compare the performance of Dijkstra’s algorithm and the A* search algorithm, referring to heuristics, to find the shortest path to the problem by implementing both algorithms programmatically and comparing the solutions generated in Mark-down. Refer to the complexity of the algorithms and compare the actual time it takes for the solutions to be processed:"
   ]
  },
  {
   "cell_type": "markdown",
   "id": "36c57d8a-b3d8-46c6-b7e3-bd18c062d9f7",
   "metadata": {},
   "source": [
    "##  Dijkstra’s Algorithm:"
   ]
  },
  {
   "cell_type": "code",
   "execution_count": 4,
   "id": "f1a809bf-46e7-45f1-bbea-1c470464ddfb",
   "metadata": {},
   "outputs": [
    {
     "name": "stdout",
     "output_type": "stream",
     "text": [
      "{'A': 0, 'B': 1, 'C': 3, 'D': 5, 'E': 9, 'F': 6, 'G': 4, 'H': 2, 'J': 10, 'K': 7, 'L': 7, 'M': 11, 'N': 10, 'P': 13, 'Q': 19, 'R': 18, 'S': 17, 'T': 20, 'U': 19, 'V': 17, 'W': 15}\n"
     ]
    }
   ],
   "source": [
    "import heapq\n",
    "\n",
    "def calculate_distances(graph, starting_vertex):\n",
    "  distances = {vertex: float('infinity') for vertex in graph}\n",
    "  distances[starting_vertex] = 0\n",
    "\n",
    "  pq = [(0, starting_vertex)]\n",
    "  while len(pq) > 0:\n",
    "    current_distance, current_vertex = heapq.heappop(pq)\n",
    "\n",
    "    if current_distance > distances[current_vertex]:\n",
    "      continue\n",
    "\n",
    "    for neighbor, weight in graph[current_vertex].items():\n",
    "      distance = current_distance + weight\n",
    "\n",
    "      if distance < distances[neighbor]:\n",
    "        distances[neighbor] = distance\n",
    "        heapq.heappush(pq, (distance, neighbor))\n",
    "\n",
    "  return distances\n",
    "\n",
    "puzzle_graph = {\n",
    "    'A': {'B': 1, 'C': 5, 'H': 2},\n",
    "    'B': {'A': 1, 'C': 2, 'D': 4},\n",
    "    'C': {'A': 5, 'B': 2, 'G': 1},\n",
    "    'D': {'B': 4, 'E': 4, 'F': 7, 'L': 7},\n",
    "    'E': {'D': 4, 'W': 6},\n",
    "    'F': {'D': 7, 'G': 2},\n",
    "    'G': {'C': 1, 'F': 2, 'L': 3},\n",
    "    'H': {'A': 2, 'J': 9, 'K': 5},\n",
    "    'J': {'H': 9, 'K': 3, 'N': 6},\n",
    "    'K': {'H': 5, 'J': 3, 'L': 5},\n",
    "    'L': {'K': 5, 'N': 3, 'M': 4, 'V': 10, 'W': 8, 'D': 7, 'G': 3},\n",
    "    'M': {'L': 4, 'Q': 10, 'P': 2},\n",
    "    'N': {'J': 6, 'L': 3, 'S': 7, 'P': 4},\n",
    "    'P': {'M': 2, 'N': 4, 'R': 5},\n",
    "    'Q': {'M': 10, 'S': 8, 'W': 4},\n",
    "    'R': {'P': 5, 'T': 3, 'S': 4},\n",
    "    'S': {'N': 7, 'R': 4, 'T': 4, 'U': 2, 'V': 6, 'Q': 8},\n",
    "    'T': {'R': 3, 'S': 4, 'U': 1},\n",
    "    'U': {'S': 2, 'T': 1, 'V': 3},\n",
    "    'V': {'L': 10, 'S': 6, 'W': 5, 'U': 3},\n",
    "    'W': {'E': 6, 'L': 8, 'Q': 4, 'V': 5}\n",
    "}\n",
    "\n",
    "print(calculate_distances(puzzle_graph, 'A'))"
   ]
  },
  {
   "cell_type": "code",
   "execution_count": null,
   "id": "d5801586-c800-48bd-bd15-a48d88a961ef",
   "metadata": {},
   "outputs": [],
   "source": []
  }
 ],
 "metadata": {
  "kernelspec": {
   "display_name": "Python 3 (ipykernel)",
   "language": "python",
   "name": "python3"
  },
  "language_info": {
   "codemirror_mode": {
    "name": "ipython",
    "version": 3
   },
   "file_extension": ".py",
   "mimetype": "text/x-python",
   "name": "python",
   "nbconvert_exporter": "python",
   "pygments_lexer": "ipython3",
   "version": "3.8.18"
  }
 },
 "nbformat": 4,
 "nbformat_minor": 5
}
